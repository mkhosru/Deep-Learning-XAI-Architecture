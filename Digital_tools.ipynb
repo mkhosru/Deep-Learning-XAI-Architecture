{
  "cells": [
    {
      "cell_type": "code",
      "execution_count": 1,
      "metadata": {
        "id": "PVWxvTodVJMz"
      },
      "outputs": [],
      "source": [
        "import os"
      ]
    },
    {
      "cell_type": "code",
      "execution_count": 2,
      "metadata": {
        "colab": {
          "base_uri": "https://localhost:8080/"
        },
        "id": "VngSqnNU-pps",
        "outputId": "b92744f4-1da7-4234-88ea-98e68526711f"
      },
      "outputs": [
        {
          "output_type": "stream",
          "name": "stdout",
          "text": [
            "Drive already mounted at /content/drive; to attempt to forcibly remount, call drive.mount(\"/content/drive\", force_remount=True).\n"
          ]
        }
      ],
      "source": [
        "from google.colab import drive\n",
        "drive.mount('/content/drive')"
      ]
    },
    {
      "cell_type": "code",
      "execution_count": 3,
      "metadata": {
        "id": "2ODHij8hUm2z"
      },
      "outputs": [],
      "source": [
        "data_path = \"/content/drive/MyDrive/Colab Notebooks/archive1\""
      ]
    },
    {
      "cell_type": "code",
      "execution_count": 4,
      "metadata": {
        "colab": {
          "base_uri": "https://localhost:8080/"
        },
        "id": "pIAx8UNiU50Z",
        "outputId": "dd758b29-666f-4e62-aa86-c0d6619cd0f0"
      },
      "outputs": [
        {
          "output_type": "stream",
          "name": "stdout",
          "text": [
            "Files/folders inside dataset:\n",
            "['train', 'val', 'test']\n"
          ]
        }
      ],
      "source": [
        "print(\"Files/folders inside dataset:\")\n",
        "print(os.listdir(data_path)[:20])  # show first 20 entries\n"
      ]
    },
    {
      "cell_type": "code",
      "execution_count": 5,
      "metadata": {
        "colab": {
          "base_uri": "https://localhost:8080/"
        },
        "id": "vynpfrdRJZJN",
        "outputId": "390b6ec8-29e0-4615-d46c-9c132b540eef"
      },
      "outputs": [
        {
          "output_type": "stream",
          "name": "stdout",
          "text": [
            "Using device: cuda\n"
          ]
        }
      ],
      "source": [
        "import os, random, numpy as np, torch\n",
        "\n",
        "SEED = 42\n",
        "random.seed(SEED)\n",
        "np.random.seed(SEED)\n",
        "torch.manual_seed(SEED)\n",
        "torch.cuda.manual_seed_all(SEED)\n",
        "\n",
        "device = \"cuda\" if torch.cuda.is_available() else \"cpu\"\n",
        "print(\"Using device:\", device)\n"
      ]
    },
    {
      "cell_type": "code",
      "execution_count": 6,
      "metadata": {
        "id": "3oGc_0gdoxPa"
      },
      "outputs": [],
      "source": [
        "data_path = \"/content/drive/MyDrive/Colab Notebooks/archive1\"\n",
        "train_dir = f\"{data_path}/train\"\n",
        "test_dir  = f\"{data_path}/test\"\n"
      ]
    },
    {
      "cell_type": "code",
      "execution_count": 7,
      "metadata": {
        "colab": {
          "base_uri": "https://localhost:8080/"
        },
        "id": "IoXkEMG8oFSW",
        "outputId": "0688e911-4134-402d-a52f-fa1373db0c50"
      },
      "outputs": [
        {
          "output_type": "stream",
          "name": "stdout",
          "text": [
            "ℹval/ already exists; skipping split.\n"
          ]
        }
      ],
      "source": [
        "from sklearn.model_selection import StratifiedShuffleSplit\n",
        "from pathlib import PurePath\n",
        "import shutil, os\n",
        "\n",
        "train_dir = f\"{data_path}/train\"\n",
        "val_dir   = f\"{data_path}/val\"\n",
        "IMG_EXT = {\".jpg\",\".jpeg\",\".png\",\".bmp\",\".tif\",\".tiff\"}\n",
        "\n",
        "if not os.path.exists(val_dir):\n",
        "    os.makedirs(val_dir, exist_ok=True)\n",
        "    classes = [c for c in sorted(os.listdir(train_dir))\n",
        "               if os.path.isdir(os.path.join(train_dir, c))]\n",
        "\n",
        "    X, y = [], []\n",
        "    for c in classes:\n",
        "        paths = [os.path.join(train_dir, c, f)\n",
        "                 for f in os.listdir(os.path.join(train_dir, c))\n",
        "                 if os.path.splitext(f)[1].lower() in IMG_EXT]\n",
        "        # need at least 2 samples per class for a split\n",
        "        if len(paths) < 2:\n",
        "            print(f\"Skipping class '{c}' (only {len(paths)} image).\")\n",
        "            continue\n",
        "        X += paths\n",
        "        y += [c]*len(paths)\n",
        "\n",
        "    sss = StratifiedShuffleSplit(n_splits=1, test_size=0.2, random_state=SEED)\n",
        "    idx_train, idx_val = next(sss.split(X, y))\n",
        "    X_val = [X[i] for i in idx_val]\n",
        "\n",
        "    for src in X_val:\n",
        "        cls = PurePath(src).parent.name\n",
        "        dst_dir = os.path.join(val_dir, cls)\n",
        "        os.makedirs(dst_dir, exist_ok=True)\n",
        "        shutil.move(src, os.path.join(dst_dir, os.path.basename(src)))\n",
        "\n",
        "    print(\"Validation split created at:\", val_dir)\n",
        "else:\n",
        "    print(\"ℹval/ already exists; skipping split.\")\n"
      ]
    },
    {
      "cell_type": "code",
      "execution_count": 8,
      "metadata": {
        "id": "UPI5IrRKohAC"
      },
      "outputs": [],
      "source": [
        "from sklearn.model_selection import StratifiedShuffleSplit\n",
        "from pathlib import Path, PurePath\n",
        "import shutil, os\n",
        "\n",
        "val_dir = f\"{data_path}/val\"\n",
        "if not os.path.exists(val_dir):\n",
        "    os.makedirs(val_dir, exist_ok=True)\n",
        "    classes = sorted(os.listdir(train_dir))\n",
        "    X, y = [], []\n",
        "    for c in classes:\n",
        "        imgs = [str(PurePath(train_dir, c, f)) for f in os.listdir(os.path.join(train_dir,c))]\n",
        "        X += imgs; y += [c]*len(imgs)\n",
        "\n",
        "    sss = StratifiedShuffleSplit(n_splits=1, test_size=0.2, random_state=SEED)\n",
        "    idx_train, idx_val = next(sss.split(X, y))\n",
        "    X_val = [X[i] for i in idx_val]\n",
        "    # move val files into val/<class>/\n",
        "    for p in X_val:\n",
        "        cls = PurePath(p).parent.name\n",
        "        os.makedirs(os.path.join(val_dir, cls), exist_ok=True)\n",
        "        shutil.move(p, os.path.join(val_dir, cls, PurePath(p).name))\n"
      ]
    },
    {
      "cell_type": "code",
      "execution_count": 9,
      "metadata": {
        "colab": {
          "base_uri": "https://localhost:8080/"
        },
        "id": "Zvpo1Kf6onJj",
        "outputId": "9d96c4d4-694b-4a23-8328-c185b4eb2d3c"
      },
      "outputs": [
        {
          "output_type": "execute_result",
          "data": {
            "text/plain": [
              "['altar',\n",
              " 'apse',\n",
              " 'bell_tower',\n",
              " 'column',\n",
              " 'dome(inner)',\n",
              " 'dome(outer)',\n",
              " 'flying_buttress',\n",
              " 'gargoyle',\n",
              " 'stained_glass',\n",
              " 'vault']"
            ]
          },
          "metadata": {},
          "execution_count": 9
        }
      ],
      "source": [
        "import timm, torch\n",
        "from torch.utils.data import DataLoader\n",
        "from torchvision import transforms, datasets\n",
        "\n",
        "IMG_SIZE = 224\n",
        "BATCH    = 32\n",
        "\n",
        "train_tfms = transforms.Compose([\n",
        "    transforms.Resize((IMG_SIZE, IMG_SIZE)),\n",
        "    transforms.RandomHorizontalFlip(),\n",
        "    transforms.RandomRotation(10),\n",
        "    transforms.ColorJitter(0.1,0.1,0.1,0.05),\n",
        "    transforms.ToTensor(),\n",
        "    transforms.Normalize(mean=(0.485,0.456,0.406), std=(0.229,0.224,0.225)),\n",
        "])\n",
        "\n",
        "val_tfms = transforms.Compose([\n",
        "    transforms.Resize((IMG_SIZE, IMG_SIZE)),\n",
        "    transforms.ToTensor(),\n",
        "    transforms.Normalize(mean=(0.485,0.456,0.406), std=(0.229,0.224,0.225)),\n",
        "])\n",
        "\n",
        "train_ds = datasets.ImageFolder(train_dir, transform=train_tfms)\n",
        "val_ds   = datasets.ImageFolder(f\"{data_path}/val\", transform=val_tfms)\n",
        "test_ds  = datasets.ImageFolder(test_dir, transform=val_tfms)\n",
        "\n",
        "train_dl = DataLoader(train_ds, batch_size=BATCH, shuffle=True,  num_workers=2, pin_memory=True)\n",
        "val_dl   = DataLoader(val_ds,   batch_size=BATCH, shuffle=False, num_workers=2, pin_memory=True)\n",
        "test_dl  = DataLoader(test_ds,  batch_size=BATCH, shuffle=False, num_workers=2, pin_memory=True)\n",
        "\n",
        "CLASSES = train_ds.classes; NUM_CLASSES = len(CLASSES); CLASSES\n"
      ]
    },
    {
      "cell_type": "code",
      "execution_count": 10,
      "metadata": {
        "id": "drT--d2r89Jb"
      },
      "outputs": [],
      "source": [
        "#pip install --upgrade timm\n"
      ]
    },
    {
      "cell_type": "code",
      "execution_count": 11,
      "metadata": {
        "colab": {
          "base_uri": "https://localhost:8080/"
        },
        "id": "C1shtz_Po65x",
        "outputId": "e6616496-1020-41e5-850b-7c4e72e129dd"
      },
      "outputs": [
        {
          "output_type": "stream",
          "name": "stderr",
          "text": [
            "/usr/local/lib/python3.12/dist-packages/huggingface_hub/utils/_auth.py:94: UserWarning: \n",
            "The secret `HF_TOKEN` does not exist in your Colab secrets.\n",
            "To authenticate with the Hugging Face Hub, create a token in your settings tab (https://huggingface.co/settings/tokens), set it as secret in your Google Colab and restart your session.\n",
            "You will be able to reuse this secret in all of your notebooks.\n",
            "Please note that authentication is recommended but still optional to access public models or datasets.\n",
            "  warnings.warn(\n"
          ]
        }
      ],
      "source": [
        "def build_model(model_name=\"resnet50\", pretrained=True, num_classes=NUM_CLASSES):\n",
        "    model = timm.create_model(model_name, pretrained=pretrained, num_classes=num_classes)\n",
        "    return model.to(device)\n",
        "\n",
        "# options:\n",
        "#   \"resnet50\"\n",
        "#   \"vit_base_patch16_224\"\n",
        "#   \"tf_efficientnetv2_s\"\n",
        "model_name = \"resnet50\"  # change to vit_base_patch16_224 or tf_efficientnetv2_s for other runs\n",
        "\n",
        "#pretrained model\n",
        "model = build_model(model_name)\n",
        "\n",
        "#training from scratch\n",
        "#model = build_model(model_name, pretrained=False)\n"
      ]
    },
    {
      "cell_type": "code",
      "execution_count": 12,
      "metadata": {
        "id": "uVw30Ic0Yldi"
      },
      "outputs": [],
      "source": [
        "!pip install torchmetrics==1.3.2 -q\n"
      ]
    },
    {
      "cell_type": "code",
      "execution_count": 13,
      "metadata": {
        "colab": {
          "base_uri": "https://localhost:8080/"
        },
        "id": "hBq9SoYTpLD5",
        "outputId": "1262e4e4-e163-4a4a-954b-299d67bdaa37"
      },
      "outputs": [
        {
          "output_type": "stream",
          "name": "stderr",
          "text": [
            "/tmp/ipython-input-3973503877.py:16: FutureWarning: `torch.cuda.amp.GradScaler(args...)` is deprecated. Please use `torch.amp.GradScaler('cuda', args...)` instead.\n",
            "  scaler    = torch.cuda.amp.GradScaler(enabled=(device==\"cuda\"))\n",
            "Epoch 1 [train]:   0%|          | 0/254 [00:00<?, ?it/s]/tmp/ipython-input-3973503877.py:43: FutureWarning: `torch.cuda.amp.autocast(args...)` is deprecated. Please use `torch.amp.autocast('cuda', args...)` instead.\n",
            "  with torch.cuda.amp.autocast(enabled=(device==\"cuda\")):\n",
            "Epoch 1 [train]: 100%|██████████| 254/254 [22:21<00:00,  5.28s/it]\n",
            "/tmp/ipython-input-3973503877.py:64: FutureWarning: `torch.cuda.amp.autocast(args...)` is deprecated. Please use `torch.amp.autocast('cuda', args...)` instead.\n",
            "  with torch.no_grad(), torch.cuda.amp.autocast(enabled=(device==\"cuda\")):\n"
          ]
        },
        {
          "output_type": "stream",
          "name": "stdout",
          "text": [
            "Epoch 01 | train_loss 1.0693 acc 0.6903 | val_loss 0.2579 acc 0.9256\n"
          ]
        },
        {
          "output_type": "stream",
          "name": "stderr",
          "text": [
            "Epoch 2 [train]: 100%|██████████| 254/254 [00:40<00:00,  6.31it/s]\n"
          ]
        },
        {
          "output_type": "stream",
          "name": "stdout",
          "text": [
            "Epoch 02 | train_loss 0.2367 acc 0.9291 | val_loss 0.1612 acc 0.9512\n"
          ]
        },
        {
          "output_type": "stream",
          "name": "stderr",
          "text": [
            "Epoch 3 [train]: 100%|██████████| 254/254 [00:40<00:00,  6.21it/s]\n"
          ]
        },
        {
          "output_type": "stream",
          "name": "stdout",
          "text": [
            "Epoch 03 | train_loss 0.1505 acc 0.9534 | val_loss 0.1399 acc 0.9562\n"
          ]
        },
        {
          "output_type": "stream",
          "name": "stderr",
          "text": [
            "Epoch 4 [train]: 100%|██████████| 254/254 [00:40<00:00,  6.28it/s]\n"
          ]
        },
        {
          "output_type": "stream",
          "name": "stdout",
          "text": [
            "Epoch 04 | train_loss 0.1027 acc 0.9677 | val_loss 0.1368 acc 0.9591\n"
          ]
        },
        {
          "output_type": "stream",
          "name": "stderr",
          "text": [
            "Epoch 5 [train]: 100%|██████████| 254/254 [00:40<00:00,  6.33it/s]\n"
          ]
        },
        {
          "output_type": "stream",
          "name": "stdout",
          "text": [
            "Epoch 05 | train_loss 0.0747 acc 0.9786 | val_loss 0.1385 acc 0.9611\n"
          ]
        },
        {
          "output_type": "stream",
          "name": "stderr",
          "text": [
            "Epoch 6 [train]: 100%|██████████| 254/254 [00:40<00:00,  6.25it/s]\n"
          ]
        },
        {
          "output_type": "stream",
          "name": "stdout",
          "text": [
            "Epoch 06 | train_loss 0.0641 acc 0.9798 | val_loss 0.1505 acc 0.9552\n"
          ]
        },
        {
          "output_type": "stream",
          "name": "stderr",
          "text": [
            "Epoch 7 [train]: 100%|██████████| 254/254 [00:39<00:00,  6.41it/s]\n"
          ]
        },
        {
          "output_type": "stream",
          "name": "stdout",
          "text": [
            "Epoch 07 | train_loss 0.0535 acc 0.9835 | val_loss 0.1361 acc 0.9576\n"
          ]
        },
        {
          "output_type": "stream",
          "name": "stderr",
          "text": [
            "Epoch 8 [train]: 100%|██████████| 254/254 [00:40<00:00,  6.29it/s]\n"
          ]
        },
        {
          "output_type": "stream",
          "name": "stdout",
          "text": [
            "Epoch 08 | train_loss 0.0404 acc 0.9878 | val_loss 0.1245 acc 0.9645\n"
          ]
        },
        {
          "output_type": "stream",
          "name": "stderr",
          "text": [
            "Epoch 9 [train]: 100%|██████████| 254/254 [00:40<00:00,  6.29it/s]\n"
          ]
        },
        {
          "output_type": "stream",
          "name": "stdout",
          "text": [
            "Epoch 09 | train_loss 0.0320 acc 0.9913 | val_loss 0.1401 acc 0.9611\n"
          ]
        },
        {
          "output_type": "stream",
          "name": "stderr",
          "text": [
            "Epoch 10 [train]: 100%|██████████| 254/254 [00:39<00:00,  6.41it/s]\n",
            "                                                               "
          ]
        },
        {
          "output_type": "stream",
          "name": "stdout",
          "text": [
            "Epoch 10 | train_loss 0.0350 acc 0.9890 | val_loss 0.1397 acc 0.9606\n",
            "Metrics log saved to: /content/drive/MyDrive/resnet50_training_log_20250924-083957.txt\n",
            "Best model path: No improvement saved\n"
          ]
        },
        {
          "output_type": "stream",
          "name": "stderr",
          "text": [
            "\r"
          ]
        }
      ],
      "source": [
        "import os, time\n",
        "from pathlib import Path\n",
        "import torch\n",
        "import torch.nn as nn\n",
        "import torch.optim as optim\n",
        "from tqdm import tqdm\n",
        "\n",
        "\n",
        "\n",
        "EPOCHS = 10\n",
        "LR     = 2e-4\n",
        "WD     = 1e-4\n",
        "\n",
        "criterion = nn.CrossEntropyLoss()\n",
        "optimizer = optim.AdamW(model.parameters(), lr=LR, weight_decay=WD)\n",
        "scaler    = torch.cuda.amp.GradScaler(enabled=(device==\"cuda\"))\n",
        "\n",
        "# ---- set up logging ----\n",
        "timestamp = time.strftime(\"%Y%m%d-%H%M%S\")\n",
        "log_dir   = Path(\"/content/drive/MyDrive\")\n",
        "log_dir.mkdir(parents=True, exist_ok=True)\n",
        "log_path  = log_dir / f\"{model_name}_training_log_{timestamp}.txt\"\n",
        "\n",
        "with open(log_path, \"w\") as f:\n",
        "    f.write(\"# Training log\\n\")\n",
        "    f.write(f\"# model_name\\t{model_name}\\n\")\n",
        "    f.write(f\"# epochs\\t{EPOCHS}\\n\")\n",
        "    f.write(f\"# lr\\t{LR}\\n\")\n",
        "    f.write(f\"# weight_decay\\t{WD}\\n\")\n",
        "    f.write(\"# epoch\\ttrain_loss\\ttrain_acc\\tval_loss\\tval_acc\\tcheckpoint\\n\")\n",
        "\n",
        "best_val_acc, patience, bad = 0.0, 8, 0\n",
        "\n",
        "for epoch in range(1, EPOCHS+1):\n",
        "    # -------------------\n",
        "    # Train\n",
        "    # -------------------\n",
        "    model.train()\n",
        "    train_loss_sum, train_correct, train_count = 0.0, 0, 0\n",
        "    for x, y in tqdm(train_dl, desc=f\"Epoch {epoch} [train]\"):\n",
        "        x, y = x.to(device), y.to(device)\n",
        "        optimizer.zero_grad(set_to_none=True)\n",
        "        with torch.cuda.amp.autocast(enabled=(device==\"cuda\")):\n",
        "            logits = model(x)\n",
        "            loss   = criterion(logits, y)\n",
        "\n",
        "        scaler.scale(loss).backward()\n",
        "        scaler.step(optimizer)\n",
        "        scaler.update()\n",
        "\n",
        "        batch_size = x.size(0)\n",
        "        train_loss_sum += loss.item() * batch_size\n",
        "        train_correct  += (logits.argmax(1) == y).sum().item()\n",
        "        train_count    += batch_size\n",
        "\n",
        "    train_loss = train_loss_sum / max(1, train_count)\n",
        "    train_acc  = train_correct  / max(1, train_count)\n",
        "\n",
        "    # -------------------\n",
        "    # Validation\n",
        "    # -------------------\n",
        "    model.eval()\n",
        "    val_loss_sum, val_correct, val_count = 0.0, 0, 0\n",
        "    with torch.no_grad(), torch.cuda.amp.autocast(enabled=(device==\"cuda\")):\n",
        "        for x, y in tqdm(val_dl, desc=f\"Epoch {epoch} [val]\", leave=False):\n",
        "            x, y = x.to(device), y.to(device)\n",
        "            logits = model(x)\n",
        "            loss   = criterion(logits, y)\n",
        "\n",
        "            batch_size = x.size(0)\n",
        "            val_loss_sum += loss.item() * batch_size\n",
        "            val_correct  += (logits.argmax(1) == y).sum().item()\n",
        "            val_count    += batch_size\n",
        "\n",
        "    val_loss = val_loss_sum / max(1, val_count)\n",
        "    val_acc  = val_correct  / max(1, val_count)\n",
        "\n",
        "    print(f\"Epoch {epoch:02d} | train_loss {train_loss:.4f} acc {train_acc:.4f} | \"\n",
        "          f\"val_loss {val_loss:.4f} acc {val_acc:.4f}\")\n",
        "\n",
        "    checkpoint_path = \"\"  # default (no save)\n",
        "    if val_acc > best_val_acc:\n",
        "        best_val_acc, bad = float(val_acc), 0\n",
        "        # NEW: checkpoint file includes epoch + accuracy\n",
        "        checkpoint_path = log_dir / f\"{model_name}_best_epoch{epoch:02d}_acc{val_acc:.4f}.pth\"\n",
        "        torch.save(model.state_dict(), checkpoint_path)\n",
        "    else:\n",
        "        bad += 1\n",
        "        if bad >= patience:\n",
        "            print(\"Early stopping.\")\n",
        "            break\n",
        "\n",
        "    # log per epoch with checkpoint info (if saved)\n",
        "    with open(log_path, \"a\") as f:\n",
        "        f.write(f\"{epoch}\\t{train_loss:.6f}\\t{train_acc:.6f}\\t{val_loss:.6f}\\t{val_acc:.6f}\\t{checkpoint_path}\\n\")\n",
        "\n",
        "# ---- wrap up\n",
        "with open(log_path, \"a\") as f:\n",
        "    f.write(\"# training_finished\\t1\\n\")\n",
        "    f.write(f\"# best_val_acc\\t{best_val_acc:.6f}\\n\")\n",
        "\n",
        "print(f\"Metrics log saved to: {log_path}\")\n",
        "print(f\"Best model path: {checkpoint_path if checkpoint_path else 'No improvement saved'}\")\n"
      ]
    },
    {
      "cell_type": "code",
      "execution_count": 13,
      "metadata": {
        "id": "7ZRQusJ6UDRf"
      },
      "outputs": [],
      "source": []
    },
    {
      "cell_type": "code",
      "execution_count": 14,
      "metadata": {
        "id": "Ks-lfcSma7O-",
        "colab": {
          "base_uri": "https://localhost:8080/"
        },
        "outputId": "85562928-0a42-4972-989e-f482412ef197"
      },
      "outputs": [
        {
          "output_type": "stream",
          "name": "stderr",
          "text": [
            "/tmp/ipython-input-3118877321.py:28: FutureWarning: `torch.cuda.amp.autocast(args...)` is deprecated. Please use `torch.amp.autocast('cuda', args...)` instead.\n",
            "  with torch.no_grad(), torch.cuda.amp.autocast(enabled=(device==\"cuda\")):\n"
          ]
        },
        {
          "output_type": "stream",
          "name": "stdout",
          "text": [
            "[WARN] Best checkpoint not found at: /content/drive/MyDrive/resnet50_best.pth. Using current model weights.\n"
          ]
        },
        {
          "output_type": "stream",
          "name": "stderr",
          "text": [
            "Testing: 100%|██████████| 45/45 [09:50<00:00, 13.13s/it]"
          ]
        },
        {
          "output_type": "stream",
          "name": "stdout",
          "text": [
            "Test metrics appended to: /content/drive/MyDrive/resnet50_training_log_20250924-083957.txt\n"
          ]
        },
        {
          "output_type": "stream",
          "name": "stderr",
          "text": [
            "\n"
          ]
        }
      ],
      "source": [
        "# ===== Test evaluation (append to same log) =====\n",
        "import torch\n",
        "from torchmetrics.classification import (\n",
        "    MulticlassAccuracy,\n",
        "    MulticlassPrecision,\n",
        "    MulticlassRecall,\n",
        "    MulticlassF1Score,\n",
        "    MulticlassConfusionMatrix\n",
        ")\n",
        "\n",
        "# If you tracked the best path during training, ensure it's here:\n",
        "# best_ckpt_path is set whenever a new best is found; if not defined, fall back to last checkpoint_path\n",
        "try:\n",
        "    best_ckpt_path\n",
        "except NameError:\n",
        "    best_ckpt_path = str(log_dir / f\"{model_name}_best.pth\")  # fallback\n",
        "\n",
        "# Load best checkpoint for testing\n",
        "if best_ckpt_path and Path(best_ckpt_path).exists():\n",
        "    model.load_state_dict(torch.load(best_ckpt_path, map_location=device))\n",
        "else:\n",
        "    print(f\"[WARN] Best checkpoint not found at: {best_ckpt_path}. Using current model weights.\")\n",
        "\n",
        "model.eval()\n",
        "\n",
        "all_preds  = []\n",
        "all_targets = []\n",
        "with torch.no_grad(), torch.cuda.amp.autocast(enabled=(device==\"cuda\")):\n",
        "    for x, y in tqdm(test_dl, desc=\"Testing\"):\n",
        "        x = x.to(device)\n",
        "        y = y.to(device)\n",
        "        logits = model(x)\n",
        "        preds  = logits.argmax(dim=1)\n",
        "        all_preds.append(preds.detach().cpu())\n",
        "        all_targets.append(y.detach().cpu())\n",
        "\n",
        "y_pred = torch.cat(all_preds, dim=0)\n",
        "y_true = torch.cat(all_targets, dim=0)\n",
        "\n",
        "# --- Metrics ---\n",
        "acc_metric   = MulticlassAccuracy(num_classes=NUM_CLASSES)\n",
        "prec_micro   = MulticlassPrecision(num_classes=NUM_CLASSES, average='micro')\n",
        "rec_micro    = MulticlassRecall(num_classes=NUM_CLASSES, average='micro')\n",
        "f1_micro     = MulticlassF1Score(num_classes=NUM_CLASSES, average='micro')\n",
        "\n",
        "prec_macro   = MulticlassPrecision(num_classes=NUM_CLASSES, average='macro')\n",
        "rec_macro    = MulticlassRecall(num_classes=NUM_CLASSES, average='macro')\n",
        "f1_macro     = MulticlassF1Score(num_classes=NUM_CLASSES, average='macro')\n",
        "\n",
        "prec_weight  = MulticlassPrecision(num_classes=NUM_CLASSES, average='weighted')\n",
        "rec_weight   = MulticlassRecall(num_classes=NUM_CLASSES, average='weighted')\n",
        "f1_weight    = MulticlassF1Score(num_classes=NUM_CLASSES, average='weighted')\n",
        "\n",
        "# Per-class (arrays of length NUM_CLASSES)\n",
        "prec_percls  = MulticlassPrecision(num_classes=NUM_CLASSES, average=None)\n",
        "rec_percls   = MulticlassRecall(num_classes=NUM_CLASSES, average=None)\n",
        "f1_percls    = MulticlassF1Score(num_classes=NUM_CLASSES, average=None)\n",
        "\n",
        "# Confusion matrix\n",
        "cm_metric    = MulticlassConfusionMatrix(num_classes=NUM_CLASSES)\n",
        "\n",
        "test_acc      = acc_metric(y_pred, y_true).item()\n",
        "test_prec_mi  = prec_micro(y_pred, y_true).item()\n",
        "test_rec_mi   = rec_micro(y_pred, y_true).item()\n",
        "test_f1_mi    = f1_micro(y_pred, y_true).item()\n",
        "\n",
        "test_prec_ma  = prec_macro(y_pred, y_true).item()\n",
        "test_rec_ma   = rec_macro(y_pred, y_true).item()\n",
        "test_f1_ma    = f1_macro(y_pred, y_true).item()\n",
        "\n",
        "test_prec_w   = prec_weight(y_pred, y_true).item()\n",
        "test_rec_w    = rec_weight(y_pred, y_true).item()\n",
        "test_f1_w     = f1_weight(y_pred, y_true).item()\n",
        "\n",
        "percls_prec   = prec_percls(y_pred, y_true).tolist()\n",
        "percls_rec    = rec_percls(y_pred, y_true).tolist()\n",
        "percls_f1     = f1_percls(y_pred, y_true).tolist()\n",
        "\n",
        "cm            = cm_metric(y_pred, y_true).to(torch.int64).tolist()\n",
        "\n",
        "# Resolve class labels (optional)\n",
        "try:\n",
        "    class_labels = list(map(str, class_names))  # must be iterable of length NUM_CLASSES\n",
        "    if len(class_labels) != NUM_CLASSES:\n",
        "        raise ValueError\n",
        "except Exception:\n",
        "    class_labels = [f\"class_{i}\" for i in range(NUM_CLASSES)]\n",
        "\n",
        "# --- Append to the same log file ---\n",
        "with open(log_path, \"a\") as f:\n",
        "    f.write(\"# test_results\\n\")\n",
        "    f.write(f\"# best_ckpt_used\\t{best_ckpt_path}\\n\")\n",
        "    f.write(f\"test_accuracy\\t{test_acc:.6f}\\n\")\n",
        "\n",
        "    f.write(\"test_precision_micro\\t{:.6f}\\n\".format(test_prec_mi))\n",
        "    f.write(\"test_recall_micro\\t{:.6f}\\n\".format(test_rec_mi))\n",
        "    f.write(\"test_f1_micro\\t{:.6f}\\n\".format(test_f1_mi))\n",
        "\n",
        "    f.write(\"test_precision_macro\\t{:.6f}\\n\".format(test_prec_ma))\n",
        "    f.write(\"test_recall_macro\\t{:.6f}\\n\".format(test_rec_ma))\n",
        "    f.write(\"test_f1_macro\\t{:.6f}\\n\".format(test_f1_ma))\n",
        "\n",
        "    f.write(\"test_precision_weighted\\t{:.6f}\\n\".format(test_prec_w))\n",
        "    f.write(\"test_recall_weighted\\t{:.6f}\\n\".format(test_rec_w))\n",
        "    f.write(\"test_f1_weighted\\t{:.6f}\\n\".format(test_f1_w))\n",
        "\n",
        "    f.write(\"# per_class_metrics\\t(label\\tprecision\\trecall\\tf1)\\n\")\n",
        "    for idx, (lbl, p, r, s) in enumerate(zip(class_labels, percls_prec, percls_rec, percls_f1)):\n",
        "        f.write(f\"{idx}\\t{lbl}\\t{p:.6f}\\t{r:.6f}\\t{s:.6f}\\n\")\n",
        "\n",
        "    f.write(\"# confusion_matrix_rows_are_true_cols_are_pred\\n\")\n",
        "    for row in cm:\n",
        "        f.write(\"\\t\".join(map(str, row)) + \"\\n\")\n",
        "\n",
        "print(f\"Test metrics appended to: {log_path}\")\n"
      ]
    },
    {
      "cell_type": "code",
      "execution_count": 15,
      "metadata": {
        "id": "_ndFne5tcRBX",
        "colab": {
          "base_uri": "https://localhost:8080/"
        },
        "outputId": "89439fdc-ea2d-4701-edce-a0db701d5f66"
      },
      "outputs": [
        {
          "output_type": "stream",
          "name": "stdout",
          "text": [
            "Collecting grad-cam\n",
            "  Downloading grad-cam-1.5.5.tar.gz (7.8 MB)\n",
            "\u001b[?25l     \u001b[90m━━━━━━━━━━━━━━━━━━━━━━━━━━━━━━━━━━━━━━━━\u001b[0m \u001b[32m0.0/7.8 MB\u001b[0m \u001b[31m?\u001b[0m eta \u001b[36m-:--:--\u001b[0m\r\u001b[2K     \u001b[91m━━━━━━━━━━━━━━━━━━━━━━━━━━━━━━\u001b[0m\u001b[91m╸\u001b[0m\u001b[90m━━━━━━━━━\u001b[0m \u001b[32m6.0/7.8 MB\u001b[0m \u001b[31m181.4 MB/s\u001b[0m eta \u001b[36m0:00:01\u001b[0m\r\u001b[2K     \u001b[90m━━━━━━━━━━━━━━━━━━━━━━━━━━━━━━━━━━━━━━━━\u001b[0m \u001b[32m7.8/7.8 MB\u001b[0m \u001b[31m117.8 MB/s\u001b[0m eta \u001b[36m0:00:00\u001b[0m\n",
            "\u001b[?25h  Installing build dependencies ... \u001b[?25l\u001b[?25hdone\n",
            "  Getting requirements to build wheel ... \u001b[?25l\u001b[?25hdone\n",
            "  Preparing metadata (pyproject.toml) ... \u001b[?25l\u001b[?25hdone\n",
            "Requirement already satisfied: numpy in /usr/local/lib/python3.12/dist-packages (from grad-cam) (2.0.2)\n",
            "Requirement already satisfied: Pillow in /usr/local/lib/python3.12/dist-packages (from grad-cam) (11.3.0)\n",
            "Requirement already satisfied: torch>=1.7.1 in /usr/local/lib/python3.12/dist-packages (from grad-cam) (2.8.0+cu126)\n",
            "Requirement already satisfied: torchvision>=0.8.2 in /usr/local/lib/python3.12/dist-packages (from grad-cam) (0.23.0+cu126)\n",
            "Collecting ttach (from grad-cam)\n",
            "  Downloading ttach-0.0.3-py3-none-any.whl.metadata (5.2 kB)\n",
            "Requirement already satisfied: tqdm in /usr/local/lib/python3.12/dist-packages (from grad-cam) (4.67.1)\n",
            "Requirement already satisfied: opencv-python in /usr/local/lib/python3.12/dist-packages (from grad-cam) (4.12.0.88)\n",
            "Requirement already satisfied: matplotlib in /usr/local/lib/python3.12/dist-packages (from grad-cam) (3.10.0)\n",
            "Requirement already satisfied: scikit-learn in /usr/local/lib/python3.12/dist-packages (from grad-cam) (1.6.1)\n",
            "Requirement already satisfied: filelock in /usr/local/lib/python3.12/dist-packages (from torch>=1.7.1->grad-cam) (3.19.1)\n",
            "Requirement already satisfied: typing-extensions>=4.10.0 in /usr/local/lib/python3.12/dist-packages (from torch>=1.7.1->grad-cam) (4.15.0)\n",
            "Requirement already satisfied: setuptools in /usr/local/lib/python3.12/dist-packages (from torch>=1.7.1->grad-cam) (75.2.0)\n",
            "Requirement already satisfied: sympy>=1.13.3 in /usr/local/lib/python3.12/dist-packages (from torch>=1.7.1->grad-cam) (1.13.3)\n",
            "Requirement already satisfied: networkx in /usr/local/lib/python3.12/dist-packages (from torch>=1.7.1->grad-cam) (3.5)\n",
            "Requirement already satisfied: jinja2 in /usr/local/lib/python3.12/dist-packages (from torch>=1.7.1->grad-cam) (3.1.6)\n",
            "Requirement already satisfied: fsspec in /usr/local/lib/python3.12/dist-packages (from torch>=1.7.1->grad-cam) (2025.3.0)\n",
            "Requirement already satisfied: nvidia-cuda-nvrtc-cu12==12.6.77 in /usr/local/lib/python3.12/dist-packages (from torch>=1.7.1->grad-cam) (12.6.77)\n",
            "Requirement already satisfied: nvidia-cuda-runtime-cu12==12.6.77 in /usr/local/lib/python3.12/dist-packages (from torch>=1.7.1->grad-cam) (12.6.77)\n",
            "Requirement already satisfied: nvidia-cuda-cupti-cu12==12.6.80 in /usr/local/lib/python3.12/dist-packages (from torch>=1.7.1->grad-cam) (12.6.80)\n",
            "Requirement already satisfied: nvidia-cudnn-cu12==9.10.2.21 in /usr/local/lib/python3.12/dist-packages (from torch>=1.7.1->grad-cam) (9.10.2.21)\n",
            "Requirement already satisfied: nvidia-cublas-cu12==12.6.4.1 in /usr/local/lib/python3.12/dist-packages (from torch>=1.7.1->grad-cam) (12.6.4.1)\n",
            "Requirement already satisfied: nvidia-cufft-cu12==11.3.0.4 in /usr/local/lib/python3.12/dist-packages (from torch>=1.7.1->grad-cam) (11.3.0.4)\n",
            "Requirement already satisfied: nvidia-curand-cu12==10.3.7.77 in /usr/local/lib/python3.12/dist-packages (from torch>=1.7.1->grad-cam) (10.3.7.77)\n",
            "Requirement already satisfied: nvidia-cusolver-cu12==11.7.1.2 in /usr/local/lib/python3.12/dist-packages (from torch>=1.7.1->grad-cam) (11.7.1.2)\n",
            "Requirement already satisfied: nvidia-cusparse-cu12==12.5.4.2 in /usr/local/lib/python3.12/dist-packages (from torch>=1.7.1->grad-cam) (12.5.4.2)\n",
            "Requirement already satisfied: nvidia-cusparselt-cu12==0.7.1 in /usr/local/lib/python3.12/dist-packages (from torch>=1.7.1->grad-cam) (0.7.1)\n",
            "Requirement already satisfied: nvidia-nccl-cu12==2.27.3 in /usr/local/lib/python3.12/dist-packages (from torch>=1.7.1->grad-cam) (2.27.3)\n",
            "Requirement already satisfied: nvidia-nvtx-cu12==12.6.77 in /usr/local/lib/python3.12/dist-packages (from torch>=1.7.1->grad-cam) (12.6.77)\n",
            "Requirement already satisfied: nvidia-nvjitlink-cu12==12.6.85 in /usr/local/lib/python3.12/dist-packages (from torch>=1.7.1->grad-cam) (12.6.85)\n",
            "Requirement already satisfied: nvidia-cufile-cu12==1.11.1.6 in /usr/local/lib/python3.12/dist-packages (from torch>=1.7.1->grad-cam) (1.11.1.6)\n",
            "Requirement already satisfied: triton==3.4.0 in /usr/local/lib/python3.12/dist-packages (from torch>=1.7.1->grad-cam) (3.4.0)\n",
            "Requirement already satisfied: contourpy>=1.0.1 in /usr/local/lib/python3.12/dist-packages (from matplotlib->grad-cam) (1.3.3)\n",
            "Requirement already satisfied: cycler>=0.10 in /usr/local/lib/python3.12/dist-packages (from matplotlib->grad-cam) (0.12.1)\n",
            "Requirement already satisfied: fonttools>=4.22.0 in /usr/local/lib/python3.12/dist-packages (from matplotlib->grad-cam) (4.60.0)\n",
            "Requirement already satisfied: kiwisolver>=1.3.1 in /usr/local/lib/python3.12/dist-packages (from matplotlib->grad-cam) (1.4.9)\n",
            "Requirement already satisfied: packaging>=20.0 in /usr/local/lib/python3.12/dist-packages (from matplotlib->grad-cam) (25.0)\n",
            "Requirement already satisfied: pyparsing>=2.3.1 in /usr/local/lib/python3.12/dist-packages (from matplotlib->grad-cam) (3.2.4)\n",
            "Requirement already satisfied: python-dateutil>=2.7 in /usr/local/lib/python3.12/dist-packages (from matplotlib->grad-cam) (2.9.0.post0)\n",
            "Requirement already satisfied: scipy>=1.6.0 in /usr/local/lib/python3.12/dist-packages (from scikit-learn->grad-cam) (1.16.2)\n",
            "Requirement already satisfied: joblib>=1.2.0 in /usr/local/lib/python3.12/dist-packages (from scikit-learn->grad-cam) (1.5.2)\n",
            "Requirement already satisfied: threadpoolctl>=3.1.0 in /usr/local/lib/python3.12/dist-packages (from scikit-learn->grad-cam) (3.6.0)\n",
            "Requirement already satisfied: six>=1.5 in /usr/local/lib/python3.12/dist-packages (from python-dateutil>=2.7->matplotlib->grad-cam) (1.17.0)\n",
            "Requirement already satisfied: mpmath<1.4,>=1.1.0 in /usr/local/lib/python3.12/dist-packages (from sympy>=1.13.3->torch>=1.7.1->grad-cam) (1.3.0)\n",
            "Requirement already satisfied: MarkupSafe>=2.0 in /usr/local/lib/python3.12/dist-packages (from jinja2->torch>=1.7.1->grad-cam) (3.0.2)\n",
            "Downloading ttach-0.0.3-py3-none-any.whl (9.8 kB)\n",
            "Building wheels for collected packages: grad-cam\n",
            "  Building wheel for grad-cam (pyproject.toml) ... \u001b[?25l\u001b[?25hdone\n",
            "  Created wheel for grad-cam: filename=grad_cam-1.5.5-py3-none-any.whl size=44284 sha256=2ad13ee520a4a02f543bb3e6a851191b3e82a7cb0072591acb405a08e6764d5d\n",
            "  Stored in directory: /root/.cache/pip/wheels/fb/3b/09/2afc520f3d69bc26ae6bd87416759c820a3f7d05c1a077bbf6\n",
            "Successfully built grad-cam\n",
            "Installing collected packages: ttach, grad-cam\n",
            "Successfully installed grad-cam-1.5.5 ttach-0.0.3\n"
          ]
        }
      ],
      "source": [
        "!pip install grad-cam\n"
      ]
    },
    {
      "cell_type": "code",
      "execution_count": 25,
      "metadata": {
        "id": "XyZJVHDmpWhi",
        "colab": {
          "base_uri": "https://localhost:8080/",
          "height": 501
        },
        "outputId": "ea4778b0-70b2-4804-ca56-86242f56db15"
      },
      "outputs": [
        {
          "output_type": "stream",
          "name": "stdout",
          "text": [
            "Using test image: /content/drive/MyDrive/Colab Notebooks/archive1/test/363.jpg\n"
          ]
        },
        {
          "output_type": "display_data",
          "data": {
            "text/plain": [
              "<PIL.Image.Image image mode=RGB size=224x224>"
            ],
            "image/png": "[encoded data removed]",
            "image/jpeg": "[encoded data removed]"
          },
          "metadata": {}
        },
        {
          "output_type": "stream",
          "name": "stdout",
          "text": [
            "\n",
            "Predicted Class Probabilities (sorted):\n",
            "column         : 99.99%\n",
            "gargoyle       : 0.00%\n",
            "apse           : 0.00%\n",
            "bell_tower     : 0.00%\n",
            "vault          : 0.00%\n",
            "flying_buttress: 0.00%\n",
            "dome(outer)    : 0.00%\n",
            "altar          : 0.00%\n",
            "dome(inner)    : 0.00%\n",
            "stained_glass  : 0.00%\n",
            "\n",
            "Final Prediction: column (confidence = 99.99%)\n"
          ]
        }
      ],
      "source": [
        "import random, numpy as np\n",
        "from PIL import Image\n",
        "from pytorch_grad_cam import GradCAM\n",
        "from pytorch_grad_cam.utils.model_targets import ClassifierOutputTarget\n",
        "from pytorch_grad_cam.utils.image import show_cam_on_image\n",
        "from pytorch_grad_cam.utils.reshape_transforms import vit_reshape_transform\n",
        "\n",
        "# 1) choose a real test image\n",
        "#img_path, _ = random.choice(test_ds.sample30\n",
        "img_path = \"/content/drive/MyDrive/Colab Notebooks/archive1/test/363.jpg\"\n",
        "print(\"Using test image:\", img_path)\n",
        "raw = Image.open(img_path).convert(\"RGB\").resize((IMG_SIZE, IMG_SIZE))\n",
        "inp = val_tfms(raw).unsqueeze(0).to(device)   # device already 'cuda'\n",
        "\n",
        "# 2) pick target layer by model type\n",
        "if \"resnet\" in model_name:\n",
        "    target_layers = [model.layer4[-1]]           # last ResNet block\n",
        "    reshape_transform = None\n",
        "elif \"efficientnet\" in model_name:\n",
        "    target_layers = [model.conv_head]\n",
        "    reshape_transform = None\n",
        "elif \"vit\" in model_name:\n",
        "    target_layers = [model.blocks[-1].norm1]     # ViT block norm\n",
        "    reshape_transform = vit_reshape_transform\n",
        "else:\n",
        "    target_layers = [list(model.children())[-2]]\n",
        "    reshape_transform = None\n",
        "\n",
        "# 3) build CAM object (NOTE: no 'use_cuda' kwarg)\n",
        "cam = GradCAM(model=model, target_layers=target_layers,\n",
        "              reshape_transform=reshape_transform)\n",
        "\n",
        "# 4) forward + target class\n",
        "with torch.no_grad():\n",
        "    probs = model(inp).softmax(1)\n",
        "pred_cls = int(probs.argmax(1).item())\n",
        "targets = [ClassifierOutputTarget(pred_cls)]\n",
        "\n",
        "# 5) compute and visualize CAM\n",
        "grayscale_cam = cam(input_tensor=inp, targets=targets, eigen_smooth=True)[0]\n",
        "rgb_img = np.array(raw) / 255.0\n",
        "vis = show_cam_on_image(rgb_img, grayscale_cam, use_rgb=True)\n",
        "display(Image.fromarray(vis))\n",
        "Image.fromarray(vis).save(\"/content/drive/MyDrive/Colab Notebooks/Gradcam/gradcam_example.png\")\n",
        "\n",
        "# 4) forward + target class\n",
        "with torch.no_grad():\n",
        "    probs = model(inp).softmax(1)\n",
        "pred_cls = int(probs.argmax(1).item())\n",
        "targets = [ClassifierOutputTarget(pred_cls)]\n",
        "\n",
        "# --- Print per-class probabilities (nice, human-readable) ---\n",
        "# Use the same class order as your datasets.ImageFolder\n",
        "class_names = CLASSES  # this was defined earlier: CLASSES = train_ds.classes\n",
        "p = probs[0].detach().cpu()\n",
        "\n",
        "# NEW: Sort class-probability pairs by probability in descending order\n",
        "sorted_probs = sorted(zip(class_names, p.tolist()), key=lambda x: x[1], reverse=True)\n",
        "\n",
        "print(\"\\nPredicted Class Probabilities (sorted):\")\n",
        "for name, pr in sorted_probs:\n",
        "    print(f\"{name:<15}: {pr*100:.2f}%\")  # show as percentage\n",
        "\n",
        "# NEW: Pick top-1 class and confidence\n",
        "top_class, top_prob = sorted_probs[0]\n",
        "print(f\"\\nFinal Prediction: {top_class} (confidence = {top_prob*100:.2f}%)\")\n",
        "\n",
        "# NEW: Use top_class for Grad-CAM target\n",
        "pred_cls = class_names.index(top_class)\n",
        "targets = [ClassifierOutputTarget(pred_cls)]\n"
      ]
    },
    {
      "cell_type": "code",
      "execution_count": 17,
      "metadata": {
        "id": "8l_tZ_g52OtR",
        "colab": {
          "base_uri": "https://localhost:8080/"
        },
        "outputId": "30fc178b-a0e5-458e-b905-32dfc0ce216e"
      },
      "outputs": [
        {
          "output_type": "stream",
          "name": "stdout",
          "text": [
            "Collecting lime\n",
            "  Downloading lime-0.2.0.1.tar.gz (275 kB)\n",
            "\u001b[?25l     \u001b[90m━━━━━━━━━━━━━━━━━━━━━━━━━━━━━━━━━━━━━━━━\u001b[0m \u001b[32m0.0/275.7 kB\u001b[0m \u001b[31m?\u001b[0m eta \u001b[36m-:--:--\u001b[0m\r\u001b[2K     \u001b[90m━━━━━━━━━━━━━━━━━━━━━━━━━━━━━━━━━━━━━━\u001b[0m \u001b[32m275.7/275.7 kB\u001b[0m \u001b[31m25.9 MB/s\u001b[0m eta \u001b[36m0:00:00\u001b[0m\n",
            "\u001b[?25h  Preparing metadata (setup.py) ... \u001b[?25l\u001b[?25hdone\n",
            "Requirement already satisfied: matplotlib in /usr/local/lib/python3.12/dist-packages (from lime) (3.10.0)\n",
            "Requirement already satisfied: numpy in /usr/local/lib/python3.12/dist-packages (from lime) (2.0.2)\n",
            "Requirement already satisfied: scipy in /usr/local/lib/python3.12/dist-packages (from lime) (1.16.2)\n",
            "Requirement already satisfied: tqdm in /usr/local/lib/python3.12/dist-packages (from lime) (4.67.1)\n",
            "Requirement already satisfied: scikit-learn>=0.18 in /usr/local/lib/python3.12/dist-packages (from lime) (1.6.1)\n",
            "Requirement already satisfied: scikit-image>=0.12 in /usr/local/lib/python3.12/dist-packages (from lime) (0.25.2)\n",
            "Requirement already satisfied: networkx>=3.0 in /usr/local/lib/python3.12/dist-packages (from scikit-image>=0.12->lime) (3.5)\n",
            "Requirement already satisfied: pillow>=10.1 in /usr/local/lib/python3.12/dist-packages (from scikit-image>=0.12->lime) (11.3.0)\n",
            "Requirement already satisfied: imageio!=2.35.0,>=2.33 in /usr/local/lib/python3.12/dist-packages (from scikit-image>=0.12->lime) (2.37.0)\n",
            "Requirement already satisfied: tifffile>=2022.8.12 in /usr/local/lib/python3.12/dist-packages (from scikit-image>=0.12->lime) (2025.9.9)\n",
            "Requirement already satisfied: packaging>=21 in /usr/local/lib/python3.12/dist-packages (from scikit-image>=0.12->lime) (25.0)\n",
            "Requirement already satisfied: lazy-loader>=0.4 in /usr/local/lib/python3.12/dist-packages (from scikit-image>=0.12->lime) (0.4)\n",
            "Requirement already satisfied: joblib>=1.2.0 in /usr/local/lib/python3.12/dist-packages (from scikit-learn>=0.18->lime) (1.5.2)\n",
            "Requirement already satisfied: threadpoolctl>=3.1.0 in /usr/local/lib/python3.12/dist-packages (from scikit-learn>=0.18->lime) (3.6.0)\n",
            "Requirement already satisfied: contourpy>=1.0.1 in /usr/local/lib/python3.12/dist-packages (from matplotlib->lime) (1.3.3)\n",
            "Requirement already satisfied: cycler>=0.10 in /usr/local/lib/python3.12/dist-packages (from matplotlib->lime) (0.12.1)\n",
            "Requirement already satisfied: fonttools>=4.22.0 in /usr/local/lib/python3.12/dist-packages (from matplotlib->lime) (4.60.0)\n",
            "Requirement already satisfied: kiwisolver>=1.3.1 in /usr/local/lib/python3.12/dist-packages (from matplotlib->lime) (1.4.9)\n",
            "Requirement already satisfied: pyparsing>=2.3.1 in /usr/local/lib/python3.12/dist-packages (from matplotlib->lime) (3.2.4)\n",
            "Requirement already satisfied: python-dateutil>=2.7 in /usr/local/lib/python3.12/dist-packages (from matplotlib->lime) (2.9.0.post0)\n",
            "Requirement already satisfied: six>=1.5 in /usr/local/lib/python3.12/dist-packages (from python-dateutil>=2.7->matplotlib->lime) (1.17.0)\n",
            "Building wheels for collected packages: lime\n",
            "  Building wheel for lime (setup.py) ... \u001b[?25l\u001b[?25hdone\n",
            "  Created wheel for lime: filename=lime-0.2.0.1-py3-none-any.whl size=283834 sha256=a96ac9407a11798ffc813e26461156c2c2fbb9421ce6bdb220bfefb9ece6d7af\n",
            "  Stored in directory: /root/.cache/pip/wheels/e7/5d/0e/4b4fff9a47468fed5633211fb3b76d1db43fe806a17fb7486a\n",
            "Successfully built lime\n",
            "Installing collected packages: lime\n",
            "Successfully installed lime-0.2.0.1\n"
          ]
        }
      ],
      "source": [
        "!pip install lime"
      ]
    },
    {
      "cell_type": "code",
      "execution_count": 18,
      "metadata": {
        "id": "snNkJdSepYfi",
        "colab": {
          "base_uri": "https://localhost:8080/",
          "height": 49,
          "referenced_widgets": [
            "196673e98ee0433980dae424512c9792",
            "714baf0bafc8489cb7f996081c668551",
            "b13dc906ee6c4b98a62f6bed33ced9c1",
            "52e8e107d25046cc88072ae2567e4f18",
            "fede630c16b34e569089da82ba81a8b6",
            "3ac62bbca03d4f84bd16f4258e51798c",
            "00bd457749ef4cadb8177a4ede5d3cff",
            "93b9e784aa92426fa34d5aa198d76510",
            "61363e83086f4e598e714812730c91ee",
            "232fc66efcab4221a8e44edfba705e22",
            "64ccf106ddbb413e839c813677dc09fc"
          ]
        },
        "outputId": "8b73c4be-a8b7-4aa3-f073-74be0486b755"
      },
      "outputs": [
        {
          "output_type": "display_data",
          "data": {
            "text/plain": [
              "  0%|          | 0/1000 [00:00<?, ?it/s]"
            ],
            "application/vnd.jupyter.widget-view+json": {
              "version_major": 2,
              "version_minor": 0,
              "model_id": "196673e98ee0433980dae424512c9792"
            }
          },
          "metadata": {}
        }
      ],
      "source": [
        "from lime import lime_image\n",
        "from skimage.segmentation import mark_boundaries\n",
        "import numpy as np\n",
        "\n",
        "def predict_np(imgs):\n",
        "    # imgs: list of HxWx3 uint8\n",
        "    batch = []\n",
        "    for im in imgs:\n",
        "        im = Image.fromarray(im).resize((IMG_SIZE, IMG_SIZE))\n",
        "        t  = val_tfms(im)  # same normalization\n",
        "        batch.append(t.numpy())\n",
        "    batch = torch.tensor(np.stack(batch)).to(device)\n",
        "    with torch.no_grad():\n",
        "        probs = model(batch).softmax(1).cpu().numpy()\n",
        "    return probs\n",
        "\n",
        "explainer = lime_image.LimeImageExplainer()\n",
        "img_np = np.array(raw)\n",
        "explanation = explainer.explain_instance(img_np, predict_np, top_labels=1, hide_color=0, num_samples=1000)\n",
        "label = explanation.top_labels[0]\n",
        "temp, mask = explanation.get_image_and_mask(label, positive_only=True, num_features=5, hide_rest=False)\n",
        "#Image.fromarray((mark_boundaries(temp, mask)*255).astype(np.uint8))\n",
        "#SAVE THE IMAGE\n",
        "Image.fromarray((mark_boundaries(temp, mask) * 255).astype(np.uint8)).save(\n",
        "    \"/content/drive/MyDrive/Colab Notebooks/Gradcam/lime_example.png\")\n",
        "\n",
        "\n"
      ]
    }
  ],
  "metadata": {
    "accelerator": "GPU",
    "colab": {
      "gpuType": "A100",
      "provenance": []
    },
    "kernelspec": {
      "display_name": "Python 3",
      "name": "python3"
    },
    "language_info": {
      "name": "python"
    },
    "widgets": {
      "application/vnd.jupyter.widget-state+json": {
        "196673e98ee0433980dae424512c9792": {
          "model_module": "@jupyter-widgets/controls",
          "model_name": "HBoxModel",
          "model_module_version": "1.5.0",
          "state": {
            "_dom_classes": [],
            "_model_module": "@jupyter-widgets/controls",
            "_model_module_version": "1.5.0",
            "_model_name": "HBoxModel",
            "_view_count": null,
            "_view_module": "@jupyter-widgets/controls",
            "_view_module_version": "1.5.0",
            "_view_name": "HBoxView",
            "box_style": "",
            "children": [
              "IPY_MODEL_714baf0bafc8489cb7f996081c668551",
              "IPY_MODEL_b13dc906ee6c4b98a62f6bed33ced9c1",
              "IPY_MODEL_52e8e107d25046cc88072ae2567e4f18"
            ],
            "layout": "IPY_MODEL_fede630c16b34e569089da82ba81a8b6"
          }
        },
        "714baf0bafc8489cb7f996081c668551": {
          "model_module": "@jupyter-widgets/controls",
          "model_name": "HTMLModel",
          "model_module_version": "1.5.0",
          "state": {
            "_dom_classes": [],
            "_model_module": "@jupyter-widgets/controls",
            "_model_module_version": "1.5.0",
            "_model_name": "HTMLModel",
            "_view_count": null,
            "_view_module": "@jupyter-widgets/controls",
            "_view_module_version": "1.5.0",
            "_view_name": "HTMLView",
            "description": "",
            "description_tooltip": null,
            "layout": "IPY_MODEL_3ac62bbca03d4f84bd16f4258e51798c",
            "placeholder": "​",
            "style": "IPY_MODEL_00bd457749ef4cadb8177a4ede5d3cff",
            "value": "100%"
          }
        },
        "b13dc906ee6c4b98a62f6bed33ced9c1": {
          "model_module": "@jupyter-widgets/controls",
          "model_name": "FloatProgressModel",
          "model_module_version": "1.5.0",
          "state": {
            "_dom_classes": [],
            "_model_module": "@jupyter-widgets/controls",
            "_model_module_version": "1.5.0",
            "_model_name": "FloatProgressModel",
            "_view_count": null,
            "_view_module": "@jupyter-widgets/controls",
            "_view_module_version": "1.5.0",
            "_view_name": "ProgressView",
            "bar_style": "success",
            "description": "",
            "description_tooltip": null,
            "layout": "IPY_MODEL_93b9e784aa92426fa34d5aa198d76510",
            "max": 1000,
            "min": 0,
            "orientation": "horizontal",
            "style": "IPY_MODEL_61363e83086f4e598e714812730c91ee",
            "value": 1000
          }
        },
        "52e8e107d25046cc88072ae2567e4f18": {
          "model_module": "@jupyter-widgets/controls",
          "model_name": "HTMLModel",
          "model_module_version": "1.5.0",
          "state": {
            "_dom_classes": [],
            "_model_module": "@jupyter-widgets/controls",
            "_model_module_version": "1.5.0",
            "_model_name": "HTMLModel",
            "_view_count": null,
            "_view_module": "@jupyter-widgets/controls",
            "_view_module_version": "1.5.0",
            "_view_name": "HTMLView",
            "description": "",
            "description_tooltip": null,
            "layout": "IPY_MODEL_232fc66efcab4221a8e44edfba705e22",
            "placeholder": "​",
            "style": "IPY_MODEL_64ccf106ddbb413e839c813677dc09fc",
            "value": " 1000/1000 [00:04&lt;00:00, 220.94it/s]"
          }
        },
        "fede630c16b34e569089da82ba81a8b6": {
          "model_module": "@jupyter-widgets/base",
          "model_name": "LayoutModel",
          "model_module_version": "1.2.0",
          "state": {
            "_model_module": "@jupyter-widgets/base",
            "_model_module_version": "1.2.0",
            "_model_name": "LayoutModel",
            "_view_count": null,
            "_view_module": "@jupyter-widgets/base",
            "_view_module_version": "1.2.0",
            "_view_name": "LayoutView",
            "align_content": null,
            "align_items": null,
            "align_self": null,
            "border": null,
            "bottom": null,
            "display": null,
            "flex": null,
            "flex_flow": null,
            "grid_area": null,
            "grid_auto_columns": null,
            "grid_auto_flow": null,
            "grid_auto_rows": null,
            "grid_column": null,
            "grid_gap": null,
            "grid_row": null,
            "grid_template_areas": null,
            "grid_template_columns": null,
            "grid_template_rows": null,
            "height": null,
            "justify_content": null,
            "justify_items": null,
            "left": null,
            "margin": null,
            "max_height": null,
            "max_width": null,
            "min_height": null,
            "min_width": null,
            "object_fit": null,
            "object_position": null,
            "order": null,
            "overflow": null,
            "overflow_x": null,
            "overflow_y": null,
            "padding": null,
            "right": null,
            "top": null,
            "visibility": null,
            "width": null
          }
        },
        "3ac62bbca03d4f84bd16f4258e51798c": {
          "model_module": "@jupyter-widgets/base",
          "model_name": "LayoutModel",
          "model_module_version": "1.2.0",
          "state": {
            "_model_module": "@jupyter-widgets/base",
            "_model_module_version": "1.2.0",
            "_model_name": "LayoutModel",
            "_view_count": null,
            "_view_module": "@jupyter-widgets/base",
            "_view_module_version": "1.2.0",
            "_view_name": "LayoutView",
            "align_content": null,
            "align_items": null,
            "align_self": null,
            "border": null,
            "bottom": null,
            "display": null,
            "flex": null,
            "flex_flow": null,
            "grid_area": null,
            "grid_auto_columns": null,
            "grid_auto_flow": null,
            "grid_auto_rows": null,
            "grid_column": null,
            "grid_gap": null,
            "grid_row": null,
            "grid_template_areas": null,
            "grid_template_columns": null,
            "grid_template_rows": null,
            "height": null,
            "justify_content": null,
            "justify_items": null,
            "left": null,
            "margin": null,
            "max_height": null,
            "max_width": null,
            "min_height": null,
            "min_width": null,
            "object_fit": null,
            "object_position": null,
            "order": null,
            "overflow": null,
            "overflow_x": null,
            "overflow_y": null,
            "padding": null,
            "right": null,
            "top": null,
            "visibility": null,
            "width": null
          }
        },
        "00bd457749ef4cadb8177a4ede5d3cff": {
          "model_module": "@jupyter-widgets/controls",
          "model_name": "DescriptionStyleModel",
          "model_module_version": "1.5.0",
          "state": {
            "_model_module": "@jupyter-widgets/controls",
            "_model_module_version": "1.5.0",
            "_model_name": "DescriptionStyleModel",
            "_view_count": null,
            "_view_module": "@jupyter-widgets/base",
            "_view_module_version": "1.2.0",
            "_view_name": "StyleView",
            "description_width": ""
          }
        },
        "93b9e784aa92426fa34d5aa198d76510": {
          "model_module": "@jupyter-widgets/base",
          "model_name": "LayoutModel",
          "model_module_version": "1.2.0",
          "state": {
            "_model_module": "@jupyter-widgets/base",
            "_model_module_version": "1.2.0",
            "_model_name": "LayoutModel",
            "_view_count": null,
            "_view_module": "@jupyter-widgets/base",
            "_view_module_version": "1.2.0",
            "_view_name": "LayoutView",
            "align_content": null,
            "align_items": null,
            "align_self": null,
            "border": null,
            "bottom": null,
            "display": null,
            "flex": null,
            "flex_flow": null,
            "grid_area": null,
            "grid_auto_columns": null,
            "grid_auto_flow": null,
            "grid_auto_rows": null,
            "grid_column": null,
            "grid_gap": null,
            "grid_row": null,
            "grid_template_areas": null,
            "grid_template_columns": null,
            "grid_template_rows": null,
            "height": null,
            "justify_content": null,
            "justify_items": null,
            "left": null,
            "margin": null,
            "max_height": null,
            "max_width": null,
            "min_height": null,
            "min_width": null,
            "object_fit": null,
            "object_position": null,
            "order": null,
            "overflow": null,
            "overflow_x": null,
            "overflow_y": null,
            "padding": null,
            "right": null,
            "top": null,
            "visibility": null,
            "width": null
          }
        },
        "61363e83086f4e598e714812730c91ee": {
          "model_module": "@jupyter-widgets/controls",
          "model_name": "ProgressStyleModel",
          "model_module_version": "1.5.0",
          "state": {
            "_model_module": "@jupyter-widgets/controls",
            "_model_module_version": "1.5.0",
            "_model_name": "ProgressStyleModel",
            "_view_count": null,
            "_view_module": "@jupyter-widgets/base",
            "_view_module_version": "1.2.0",
            "_view_name": "StyleView",
            "bar_color": null,
            "description_width": ""
          }
        },
        "232fc66efcab4221a8e44edfba705e22": {
          "model_module": "@jupyter-widgets/base",
          "model_name": "LayoutModel",
          "model_module_version": "1.2.0",
          "state": {
            "_model_module": "@jupyter-widgets/base",
            "_model_module_version": "1.2.0",
            "_model_name": "LayoutModel",
            "_view_count": null,
            "_view_module": "@jupyter-widgets/base",
            "_view_module_version": "1.2.0",
            "_view_name": "LayoutView",
            "align_content": null,
            "align_items": null,
            "align_self": null,
            "border": null,
            "bottom": null,
            "display": null,
            "flex": null,
            "flex_flow": null,
            "grid_area": null,
            "grid_auto_columns": null,
            "grid_auto_flow": null,
            "grid_auto_rows": null,
            "grid_column": null,
            "grid_gap": null,
            "grid_row": null,
            "grid_template_areas": null,
            "grid_template_columns": null,
            "grid_template_rows": null,
            "height": null,
            "justify_content": null,
            "justify_items": null,
            "left": null,
            "margin": null,
            "max_height": null,
            "max_width": null,
            "min_height": null,
            "min_width": null,
            "object_fit": null,
            "object_position": null,
            "order": null,
            "overflow": null,
            "overflow_x": null,
            "overflow_y": null,
            "padding": null,
            "right": null,
            "top": null,
            "visibility": null,
            "width": null
          }
        },
        "64ccf106ddbb413e839c813677dc09fc": {
          "model_module": "@jupyter-widgets/controls",
          "model_name": "DescriptionStyleModel",
          "model_module_version": "1.5.0",
          "state": {
            "_model_module": "@jupyter-widgets/controls",
            "_model_module_version": "1.5.0",
            "_model_name": "DescriptionStyleModel",
            "_view_count": null,
            "_view_module": "@jupyter-widgets/base",
            "_view_module_version": "1.2.0",
            "_view_name": "StyleView",
            "description_width": ""
          }
        }
      }
    }
  },
  "nbformat": 4,
  "nbformat_minor": 0
}